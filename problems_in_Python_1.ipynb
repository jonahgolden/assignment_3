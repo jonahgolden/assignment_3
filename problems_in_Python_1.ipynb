{
 "cells": [
  {
   "cell_type": "code",
   "execution_count": 3,
   "metadata": {
    "collapsed": true
   },
   "outputs": [],
   "source": [
    "# Creating a variable\n",
    "word = \"supercalifragilisticexpialidocious\""
   ]
  },
  {
   "cell_type": "code",
   "execution_count": 9,
   "metadata": {
    "collapsed": false
   },
   "outputs": [
    {
     "name": "stdout",
     "output_type": "stream",
     "text": [
      "super ice us\n"
     ]
    }
   ],
   "source": [
    "# Creating 3 new variables from the first variable\n",
    "word1 = word[0:5]\n",
    "word2 = word[18:21]\n",
    "word3 = word[-2:]\n",
    "print(word1,word2,word3)"
   ]
  },
  {
   "cell_type": "code",
   "execution_count": 17,
   "metadata": {
    "collapsed": false
   },
   "outputs": [
    {
     "name": "stdout",
     "output_type": "stream",
     "text": [
      "mean: 6.0\n"
     ]
    }
   ],
   "source": [
    "# finding the mean of a list of even numbers from 1-10 inclusive\n",
    "print('mean:',(2+4+6+8+10)/5)"
   ]
  },
  {
   "cell_type": "code",
   "execution_count": 37,
   "metadata": {
    "collapsed": false
   },
   "outputs": [
    {
     "name": "stdout",
     "output_type": "stream",
     "text": [
      "standard deviation: 2.8284271247461903\n"
     ]
    }
   ],
   "source": [
    "# finding the standard deviation of a list of even numbers from 1-10 inclusive\n",
    "list_std = ((((2-6)**2)+((4-6)**2)+((6-6)**2)+((8-6)**2)+((10-6)**2))/5)**0.5\n",
    "print('standard deviation:',list_std)"
   ]
  },
  {
   "cell_type": "code",
   "execution_count": 38,
   "metadata": {
    "collapsed": false
   },
   "outputs": [
    {
     "name": "stdout",
     "output_type": "stream",
     "text": [
      "standard error: 1.2649110640673518\n"
     ]
    }
   ],
   "source": [
    "# finding the standard error of a list of even numbers from 1-10 inclusive\n",
    "list_ste = list_std/(5**0.5)\n",
    "print('standard error:',list_ste)"
   ]
  },
  {
   "cell_type": "code",
   "execution_count": 46,
   "metadata": {
    "collapsed": false
   },
   "outputs": [
    {
     "name": "stdout",
     "output_type": "stream",
     "text": [
      "Jonah Golden\n"
     ]
    }
   ],
   "source": [
    "# adding my first and last name together\n",
    "first = 'Jonah '\n",
    "last = 'Golden'\n",
    "name = first + last\n",
    "print(name)"
   ]
  },
  {
   "cell_type": "code",
   "execution_count": null,
   "metadata": {
    "collapsed": true
   },
   "outputs": [],
   "source": []
  }
 ],
 "metadata": {
  "kernelspec": {
   "display_name": "Python 3",
   "language": "python",
   "name": "python3"
  },
  "language_info": {
   "codemirror_mode": {
    "name": "ipython",
    "version": 3
   },
   "file_extension": ".py",
   "mimetype": "text/x-python",
   "name": "python",
   "nbconvert_exporter": "python",
   "pygments_lexer": "ipython3",
   "version": "3.4.3"
  }
 },
 "nbformat": 4,
 "nbformat_minor": 0
}
